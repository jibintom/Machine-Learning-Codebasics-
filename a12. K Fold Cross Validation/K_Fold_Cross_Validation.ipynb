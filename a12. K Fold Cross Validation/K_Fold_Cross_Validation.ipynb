{
  "nbformat": 4,
  "nbformat_minor": 0,
  "metadata": {
    "colab": {
      "provenance": [],
      "authorship_tag": "ABX9TyO1XcJ4oKIqL4DDcj86aOfd",
      "include_colab_link": true
    },
    "kernelspec": {
      "name": "python3",
      "display_name": "Python 3"
    },
    "language_info": {
      "name": "python"
    }
  },
  "cells": [
    {
      "cell_type": "markdown",
      "metadata": {
        "id": "view-in-github",
        "colab_type": "text"
      },
      "source": [
        "<a href=\"https://colab.research.google.com/github/jibintom/Machine-Learning-Codebasics-/blob/main/a12.%20K%20Fold%20Cross%20Validation/K_Fold_Cross_Validation.ipynb\" target=\"_parent\"><img src=\"https://colab.research.google.com/assets/colab-badge.svg\" alt=\"Open In Colab\"/></a>"
      ]
    },
    {
      "cell_type": "code",
      "execution_count": 1,
      "metadata": {
        "id": "JmV5dzzEFzhN"
      },
      "outputs": [],
      "source": [
        "import warnings\n",
        "warnings.filterwarnings(\"ignore\")\n",
        "import pandas as pd\n",
        "import numpy as np\n",
        "\n",
        "from sklearn.datasets import load_digits\n",
        "digits=load_digits()\n",
        "\n",
        "from sklearn.linear_model import LogisticRegression\n",
        "from sklearn.svm import SVC\n",
        "from sklearn.ensemble import RandomForestClassifier"
      ]
    },
    {
      "cell_type": "code",
      "source": [
        "from sklearn.model_selection import train_test_split\n",
        "x_train,x_test,y_train,y_test=train_test_split(digits.data, digits.target, test_size=.2, random_state=10)"
      ],
      "metadata": {
        "id": "H8C7emwyHKk0"
      },
      "execution_count": 2,
      "outputs": []
    },
    {
      "cell_type": "markdown",
      "source": [
        "**use a function to obtain the score**"
      ],
      "metadata": {
        "id": "rZuwR-pHIQBb"
      }
    },
    {
      "cell_type": "code",
      "source": [
        "def get_score(model,x_train,x_test,y_train,y_test):\n",
        "  model.fit(x_train,y_train)\n",
        "  return model.score(x_test,y_test)"
      ],
      "metadata": {
        "id": "nbwhVuj5HlFX"
      },
      "execution_count": 3,
      "outputs": []
    },
    {
      "cell_type": "code",
      "source": [
        "get_score(LogisticRegression(),x_train,x_test,y_train,y_test)"
      ],
      "metadata": {
        "colab": {
          "base_uri": "https://localhost:8080/"
        },
        "id": "iNPeglSiIqrG",
        "outputId": "56faeb1c-951e-463b-c395-5443f094cf8a"
      },
      "execution_count": 4,
      "outputs": [
        {
          "output_type": "execute_result",
          "data": {
            "text/plain": [
              "0.95"
            ]
          },
          "metadata": {},
          "execution_count": 4
        }
      ]
    },
    {
      "cell_type": "code",
      "source": [
        "get_score(SVC(),x_train,x_test,y_train,y_test)"
      ],
      "metadata": {
        "colab": {
          "base_uri": "https://localhost:8080/"
        },
        "id": "8_4EYNYUI_Tj",
        "outputId": "7c5552fe-befa-485c-d72e-85bdbf951a53"
      },
      "execution_count": 5,
      "outputs": [
        {
          "output_type": "execute_result",
          "data": {
            "text/plain": [
              "0.9833333333333333"
            ]
          },
          "metadata": {},
          "execution_count": 5
        }
      ]
    },
    {
      "cell_type": "code",
      "source": [
        "get_score(RandomForestClassifier(n_estimators=10),x_train,x_test,y_train,y_test)"
      ],
      "metadata": {
        "colab": {
          "base_uri": "https://localhost:8080/"
        },
        "id": "7zThdr_4JD8b",
        "outputId": "bbec5f00-993d-4ab4-9f8b-473bdddfe063"
      },
      "execution_count": 6,
      "outputs": [
        {
          "output_type": "execute_result",
          "data": {
            "text/plain": [
              "0.9444444444444444"
            ]
          },
          "metadata": {},
          "execution_count": 6
        }
      ]
    },
    {
      "cell_type": "markdown",
      "source": [
        "**Demonstration of K Fold**"
      ],
      "metadata": {
        "id": "wVWvrCRwsWge"
      }
    },
    {
      "cell_type": "code",
      "source": [
        "from sklearn.model_selection import KFold\n",
        "kf=KFold(n_splits=3) #indicate the no of folds required"
      ],
      "metadata": {
        "id": "ued2HSnssfJr"
      },
      "execution_count": 10,
      "outputs": []
    },
    {
      "cell_type": "code",
      "source": [
        "for train_index,test_index in kf.split([1,2,3,4,5,6,7,8,9]):\n",
        "  print(train_index,test_index)"
      ],
      "metadata": {
        "colab": {
          "base_uri": "https://localhost:8080/"
        },
        "id": "zbid1FlJsovA",
        "outputId": "6e78917c-14d0-4e74-f885-1d4d8bf69546"
      },
      "execution_count": 12,
      "outputs": [
        {
          "output_type": "stream",
          "name": "stdout",
          "text": [
            "[3 4 5 6 7 8] [0 1 2]\n",
            "[0 1 2 6 7 8] [3 4 5]\n",
            "[0 1 2 3 4 5] [6 7 8]\n"
          ]
        }
      ]
    },
    {
      "cell_type": "markdown",
      "source": [
        "### Stratified K-Fold"
      ],
      "metadata": {
        "id": "X6bGqUaOwIDj"
      }
    },
    {
      "cell_type": "code",
      "source": [
        "def get_score(model,x_train,x_test,y_train,y_test):\n",
        "  model.fit(x_train,y_train)\n",
        "  return model.score(x_test,y_test)"
      ],
      "metadata": {
        "id": "Kyx3e_YjwIxI"
      },
      "execution_count": 13,
      "outputs": []
    },
    {
      "cell_type": "code",
      "source": [
        "from sklearn.model_selection import StratifiedKFold\n",
        "skf=StratifiedKFold(n_splits=3)"
      ],
      "metadata": {
        "id": "9CWr5fvjwMaJ"
      },
      "execution_count": 17,
      "outputs": []
    },
    {
      "cell_type": "code",
      "source": [
        "score_lr=[]   #creating array for storing scores\n",
        "score_svc=[]\n",
        "score_rf=[]\n",
        "\n",
        "for train_index,test_index in skf.split(digits.data,digits.target):\n",
        "  x_train,x_test,y_train,y_test=digits.data[train_index], digits.data[test_index],digits.target[train_index],digits.target[test_index]\n",
        "                                \n",
        "\n",
        "  score_lr.append(get_score(LogisticRegression(),x_train,x_test,y_train,y_test))   #find the score and append the same to array\n",
        "  score_svc.append(get_score(SVC(),x_train,x_test,y_train,y_test))\n",
        "  score_rf.append(get_score(RandomForestClassifier(n_estimators=40),x_train,x_test,y_train,y_test))\n",
        "\n",
        "print(score_lr)\n",
        "print(score_svc)\n",
        "print(score_rf)"
      ],
      "metadata": {
        "colab": {
          "base_uri": "https://localhost:8080/"
        },
        "id": "H2dPnjD2wwyL",
        "outputId": "2cafe3b4-1909-4247-b649-f7c79a03ce6c"
      },
      "execution_count": 22,
      "outputs": [
        {
          "output_type": "stream",
          "name": "stdout",
          "text": [
            "[0.9215358931552587, 0.9415692821368948, 0.9165275459098498]\n",
            "[0.9649415692821369, 0.9799666110183639, 0.9649415692821369]\n",
            "[0.9482470784641068, 0.9515859766277128, 0.9298831385642737]\n"
          ]
        }
      ]
    },
    {
      "cell_type": "markdown",
      "source": [
        "## cross_val_score function\n",
        "***The above code look messy so in order to simplify this we have special library sklearn called cross_val_score***"
      ],
      "metadata": {
        "id": "9J8lkEA01PEk"
      }
    },
    {
      "cell_type": "code",
      "source": [
        "from sklearn.model_selection import cross_val_score"
      ],
      "metadata": {
        "id": "9U8fmZjh1hHw"
      },
      "execution_count": 24,
      "outputs": []
    },
    {
      "cell_type": "markdown",
      "source": [
        "**Logistic regression model performance using cross_val_score**"
      ],
      "metadata": {
        "id": "eDgg78F43gXL"
      }
    },
    {
      "cell_type": "code",
      "source": [
        "cross_val_score(LogisticRegression(), digits.data, digits.target)"
      ],
      "metadata": {
        "colab": {
          "base_uri": "https://localhost:8080/"
        },
        "id": "M64qAcsP17Nd",
        "outputId": "c6702cb3-7969-4b44-9802-277c90d9fa48"
      },
      "execution_count": 25,
      "outputs": [
        {
          "output_type": "execute_result",
          "data": {
            "text/plain": [
              "array([0.92222222, 0.86944444, 0.94150418, 0.93871866, 0.89693593])"
            ]
          },
          "metadata": {},
          "execution_count": 25
        }
      ]
    },
    {
      "cell_type": "markdown",
      "source": [
        "**svm model performance using cross_val_score**"
      ],
      "metadata": {
        "id": "xJ0DYohY3M7i"
      }
    },
    {
      "cell_type": "code",
      "source": [
        "cross_val_score(SVC(), digits.data, digits.target)"
      ],
      "metadata": {
        "colab": {
          "base_uri": "https://localhost:8080/"
        },
        "id": "shNbhx8b2Oeb",
        "outputId": "7dd1f58c-17b1-42ba-ec1f-d9794fc637dc"
      },
      "execution_count": 26,
      "outputs": [
        {
          "output_type": "execute_result",
          "data": {
            "text/plain": [
              "array([0.96111111, 0.94444444, 0.98328691, 0.98885794, 0.93871866])"
            ]
          },
          "metadata": {},
          "execution_count": 26
        }
      ]
    },
    {
      "cell_type": "markdown",
      "source": [
        "**random forest performance using cross_val_score**"
      ],
      "metadata": {
        "id": "9gmpLrr53Q1i"
      }
    },
    {
      "cell_type": "code",
      "source": [
        "cross_val_score(RandomForestClassifier(n_estimators=10), digits.data, digits.target)"
      ],
      "metadata": {
        "colab": {
          "base_uri": "https://localhost:8080/"
        },
        "id": "3xlrq_yY2U-8",
        "outputId": "8973acc9-a086-4bcc-eb57-2501fbc12b41"
      },
      "execution_count": 27,
      "outputs": [
        {
          "output_type": "execute_result",
          "data": {
            "text/plain": [
              "array([0.87222222, 0.85      , 0.93314763, 0.93314763, 0.89972145])"
            ]
          },
          "metadata": {},
          "execution_count": 27
        }
      ]
    },
    {
      "cell_type": "markdown",
      "source": [
        "**Parameter tunning using k fold cross validation**"
      ],
      "metadata": {
        "id": "BsSUnLvR3nnk"
      }
    },
    {
      "cell_type": "code",
      "source": [
        "scores1 = cross_val_score(RandomForestClassifier(n_estimators=5),digits.data, digits.target, cv=10)\n",
        "np.average(scores1)"
      ],
      "metadata": {
        "colab": {
          "base_uri": "https://localhost:8080/"
        },
        "id": "dsRamVzA3pYY",
        "outputId": "f03ec87f-e512-426b-f8ac-0e95314d6086"
      },
      "execution_count": 30,
      "outputs": [
        {
          "output_type": "execute_result",
          "data": {
            "text/plain": [
              "0.8741992551210428"
            ]
          },
          "metadata": {},
          "execution_count": 30
        }
      ]
    },
    {
      "cell_type": "code",
      "source": [
        "scores2 = cross_val_score(RandomForestClassifier(n_estimators=20),digits.data, digits.target, cv=10)\n",
        "np.average(scores2)"
      ],
      "metadata": {
        "colab": {
          "base_uri": "https://localhost:8080/"
        },
        "id": "VfjzwC7-4VEU",
        "outputId": "0f8f08ed-e6dc-4f5d-d401-43db8e498f99"
      },
      "execution_count": 31,
      "outputs": [
        {
          "output_type": "execute_result",
          "data": {
            "text/plain": [
              "0.9382402234636871"
            ]
          },
          "metadata": {},
          "execution_count": 31
        }
      ]
    },
    {
      "cell_type": "code",
      "source": [
        "scores3 = cross_val_score(RandomForestClassifier(n_estimators=30),digits.data, digits.target, cv=10)\n",
        "np.average(scores3)"
      ],
      "metadata": {
        "colab": {
          "base_uri": "https://localhost:8080/"
        },
        "id": "97ZoBrmc4ZlW",
        "outputId": "01a1e455-5bb5-4071-be4f-4daf2e74f524"
      },
      "execution_count": 33,
      "outputs": [
        {
          "output_type": "execute_result",
          "data": {
            "text/plain": [
              "0.9360055865921787"
            ]
          },
          "metadata": {},
          "execution_count": 33
        }
      ]
    },
    {
      "cell_type": "code",
      "source": [
        "scores4 = cross_val_score(RandomForestClassifier(n_estimators=40),digits.data, digits.target, cv=10)\n",
        "np.average(scores4)"
      ],
      "metadata": {
        "colab": {
          "base_uri": "https://localhost:8080/"
        },
        "id": "BGYt-RJt4cSi",
        "outputId": "4b2aea9d-59b9-4397-92a4-75ac5ac7178f"
      },
      "execution_count": 34,
      "outputs": [
        {
          "output_type": "execute_result",
          "data": {
            "text/plain": [
              "0.9421104903786468"
            ]
          },
          "metadata": {},
          "execution_count": 34
        }
      ]
    },
    {
      "cell_type": "markdown",
      "source": [
        "Here we used cross_val_score to fine tune our random forest classifier and figured that having around 40 trees in random forest gives best result."
      ],
      "metadata": {
        "id": "U-w9O44U4kw0"
      }
    },
    {
      "cell_type": "markdown",
      "source": [
        "### Exercise\n",
        "\n",
        "Use iris flower dataset from sklearn library and use cross_val_score against following models to measure the performance of each. In the end figure out the model with best performance,\n",
        "\n",
        "1.   Logistic Regression\n",
        "2.   SVM\n",
        "3.   Decision Tree\n",
        "4.   Random Forest\n",
        "\n",
        "\n",
        "\n",
        "\n"
      ],
      "metadata": {
        "id": "mffrH1uq4mJo"
      }
    },
    {
      "cell_type": "code",
      "source": [
        "from sklearn.datasets import load_iris\n",
        "iris=load_iris()"
      ],
      "metadata": {
        "id": "hXd7YdO646Ky"
      },
      "execution_count": 35,
      "outputs": []
    },
    {
      "cell_type": "code",
      "source": [
        "from sklearn.model_selection import cross_val_score"
      ],
      "metadata": {
        "id": "3e3HVppO5Ix5"
      },
      "execution_count": 36,
      "outputs": []
    },
    {
      "cell_type": "markdown",
      "source": [
        "1. Logistic Regression"
      ],
      "metadata": {
        "id": "Bg-CUxah6UXW"
      }
    },
    {
      "cell_type": "code",
      "source": [
        "score_lr=cross_val_score(LogisticRegression(),iris.data, iris.target, cv=10)\n",
        "np.average(score_lr)"
      ],
      "metadata": {
        "colab": {
          "base_uri": "https://localhost:8080/"
        },
        "id": "QHyyZiDl5Ow6",
        "outputId": "4d992087-ae5b-4116-f232-57c3d89ee492"
      },
      "execution_count": 39,
      "outputs": [
        {
          "output_type": "execute_result",
          "data": {
            "text/plain": [
              "0.9733333333333334"
            ]
          },
          "metadata": {},
          "execution_count": 39
        }
      ]
    },
    {
      "cell_type": "markdown",
      "source": [
        "2. SVM"
      ],
      "metadata": {
        "id": "HVb2iW9X6YFq"
      }
    },
    {
      "cell_type": "code",
      "source": [
        "score_svc=cross_val_score(SVC(),iris.data, iris.target, cv=10)\n",
        "np.average(score_svc)"
      ],
      "metadata": {
        "colab": {
          "base_uri": "https://localhost:8080/"
        },
        "id": "20tc5Bq55n1K",
        "outputId": "0d30eb1f-8535-41d0-9293-b370f54d2913"
      },
      "execution_count": 41,
      "outputs": [
        {
          "output_type": "execute_result",
          "data": {
            "text/plain": [
              "0.9733333333333334"
            ]
          },
          "metadata": {},
          "execution_count": 41
        }
      ]
    },
    {
      "cell_type": "markdown",
      "source": [
        "3. Decision Tree"
      ],
      "metadata": {
        "id": "tJ3GbRMu6cRd"
      }
    },
    {
      "cell_type": "code",
      "source": [
        "from sklearn.tree import DecisionTreeClassifier\n",
        "\n",
        "score_tree=cross_val_score(DecisionTreeClassifier(),iris.data, iris.target, cv=10)\n",
        "np.average(score_tree)"
      ],
      "metadata": {
        "colab": {
          "base_uri": "https://localhost:8080/"
        },
        "id": "GRdI-hPb51Y6",
        "outputId": "2bba7801-6481-4d50-ef75-4644ea2a5d13"
      },
      "execution_count": 43,
      "outputs": [
        {
          "output_type": "execute_result",
          "data": {
            "text/plain": [
              "0.9533333333333334"
            ]
          },
          "metadata": {},
          "execution_count": 43
        }
      ]
    },
    {
      "cell_type": "markdown",
      "source": [
        "4. Random Forest"
      ],
      "metadata": {
        "id": "1hCQFOTX6gUO"
      }
    },
    {
      "cell_type": "code",
      "source": [
        "score_rf=cross_val_score(RandomForestClassifier(),iris.data, iris.target, cv=10)\n",
        "np.average(score_tree)"
      ],
      "metadata": {
        "colab": {
          "base_uri": "https://localhost:8080/"
        },
        "id": "zEK7KwTD6I1u",
        "outputId": "fe540770-9c85-4bb5-c0f9-a6de4cb0a9be"
      },
      "execution_count": 44,
      "outputs": [
        {
          "output_type": "execute_result",
          "data": {
            "text/plain": [
              "0.9533333333333334"
            ]
          },
          "metadata": {},
          "execution_count": 44
        }
      ]
    }
  ]
}